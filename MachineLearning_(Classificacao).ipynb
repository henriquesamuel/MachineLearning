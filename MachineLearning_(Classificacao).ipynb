{
  "nbformat": 4,
  "nbformat_minor": 0,
  "metadata": {
    "colab": {
      "provenance": [],
      "toc_visible": true
    },
    "kernelspec": {
      "name": "python3",
      "display_name": "Python 3"
    },
    "language_info": {
      "name": "python"
    }
  },
  "cells": [
    {
      "cell_type": "markdown",
      "source": [
        "# Definição de problema"
      ],
      "metadata": {
        "id": "w6qqkuhB_vVS"
      }
    },
    {
      "cell_type": "markdown",
      "source": [
        "O objetivo consiste em prever a presença de doença cardíaca com base em várias características dos pacientes, como idade, sexo, pressão sanguínea, colesterol, entre outros.\n",
        "\n",
        "Hipótese: Alguns atributos podem ter maior peso na predição da doença cardíaca do que outros."
      ],
      "metadata": {
        "id": "AQGcl86e_7jY"
      }
    },
    {
      "cell_type": "markdown",
      "source": [
        "# Configuração para não exibir os warnings"
      ],
      "metadata": {
        "id": "OuCrubs7U_HX"
      }
    },
    {
      "cell_type": "code",
      "execution_count": 31,
      "metadata": {
        "id": "8kKBm-AqU1AB"
      },
      "outputs": [],
      "source": [
        "import warnings\n",
        "warnings.filterwarnings(\"ignore\")"
      ]
    },
    {
      "cell_type": "markdown",
      "source": [
        "# Imports necessários"
      ],
      "metadata": {
        "id": "9IG41SCvVTih"
      }
    },
    {
      "cell_type": "code",
      "source": [
        "import pandas as pd\n",
        "import numpy as np\n",
        "import matplotlib.pyplot as plt\n",
        "import missingno as ms\n",
        "from sklearn.preprocessing import StandardScaler\n",
        "from sklearn.preprocessing import MinMaxScaler\n",
        "from sklearn.model_selection import train_test_split\n",
        "from sklearn.model_selection import KFold\n",
        "from sklearn.model_selection import StratifiedKFold\n",
        "from sklearn.model_selection import cross_val_score\n",
        "from sklearn.model_selection import GridSearchCV\n",
        "from sklearn.metrics import accuracy_score\n",
        "from sklearn.pipeline import Pipeline\n",
        "from sklearn.linear_model import LogisticRegression\n",
        "from sklearn.tree import DecisionTreeClassifier\n",
        "from sklearn.neighbors import KNeighborsClassifier\n",
        "from sklearn.naive_bayes import GaussianNB\n",
        "from sklearn.svm import SVC\n",
        "from sklearn.ensemble import BaggingClassifier\n",
        "from sklearn.ensemble import RandomForestClassifier\n",
        "from sklearn.ensemble import ExtraTreesClassifier\n",
        "from sklearn.ensemble import VotingClassifier\n",
        "from sklearn.ensemble import AdaBoostClassifier\n",
        "from sklearn.ensemble import GradientBoostingClassifier"
      ],
      "metadata": {
        "id": "IXXmHsGJVPwk"
      },
      "execution_count": 32,
      "outputs": []
    },
    {
      "cell_type": "markdown",
      "source": [
        "# Definição de atributos\n",
        "\n",
        "\n",
        "\n"
      ],
      "metadata": {
        "id": "r4_AMKoSlHx5"
      }
    },
    {
      "cell_type": "markdown",
      "source": [
        "\n",
        "\n",
        "*   age (Idade em anos): A idade do paciente em anos.\n",
        "\n",
        "*   sex (Sexo): O sexo do paciente, onde 1 representa masculino e 0 representa feminino.\n",
        "\n",
        "*   chest pain type (Tipo de dor no peito): O tipo de dor no peito relatada pelo paciente, codificado de 1 a 4, onde:\n",
        "    *   1: Angina típica\n",
        "    *   2: Angina atípica\n",
        "    *   3: Dor não anginal\n",
        "    *   4: Assintomático\n",
        "\n",
        "*   resting bp s (Pressão sanguínea em repouso): A pressão arterial sistólica em mm Hg enquanto o paciente está em repouso.\n",
        "\n",
        "*   serum cholesterol (Colesterol sérico): O nível de colesterol sérico do paciente em mg/dL.\n",
        "\n",
        "*   fasting blood sugar (Açúcar no sangue em jejum): O nível de açúcar no sangue em jejum do paciente, onde 1 indica um nível de açúcar no sangue acima de 120 mg/dL e 0 indica um nível de açúcar no sangue abaixo ou igual a 120 mg/dL.\n",
        "\n",
        "*   resting ecg (Eletrocardiograma em repouso): Os resultados do eletrocardiograma em repouso, codificados de 0 a 2, onde:\n",
        "\n",
        "    *   0: Normal\n",
        "    *   1: Anormalidade de onda ST-T (inversões da onda T e/ou elevação ou depressão do segmento ST em > 0,05 mV)\n",
        "    *   2: Provável ou definitiva hipertrofia ventricular esquerda por critérios de Estes\n",
        "\n",
        "*   max heart rate (Máximo de frequência cardíaca alcançada): A máxima frequência cardíaca alcançada pelo paciente (bpm).\n",
        "\n",
        "*   exercise angina (Angina induzida pelo exercício): Se o paciente teve angina induzida pelo exercício, onde 1 indica sim e 0 indica não.\n",
        "\n",
        "*   oldpeak (Depressão de ST antiga): Depressão de ST induzida pelo exercício em relação ao repouso.\n",
        "\n",
        "*   ST slope (Inclinação de ST): A inclinação do segmento ST durante o pico do exercício, codificada de 0 a 2, onde:\n",
        "\n",
        "    *   0: Inclinação ascendente\n",
        "    *   1: Plana\n",
        "    *   2: Inclinação descendente\n",
        "\n",
        "\n",
        "*   target (Alvo): A presença de doença cardíaca, onde 1 indica presença de doença cardíaca e 0 indica ausência de doença cardíaca."
      ],
      "metadata": {
        "id": "Yuu-4wd7nKMP"
      }
    },
    {
      "cell_type": "markdown",
      "source": [
        "# Análise de dados"
      ],
      "metadata": {
        "id": "uC36ylT4jv2G"
      }
    },
    {
      "cell_type": "code",
      "source": [
        "# Carga de dataframe\n",
        "\n",
        "filename = 'https://raw.githubusercontent.com/henriquesamuel/MachineLearning/main/heart_statlog_cleveland_hungary_final.csv' # path do github\n",
        "df = pd.read_csv(filename)\n",
        "\n",
        "# renomeando colunas (cabeçalho)\n",
        "df.columns = ['Idade', 'Sexo', 'TipoDor', 'PressaoSangueRep', 'Colesterol_Serico', 'Acucar_sangue_jejum', 'EletrocardiogramaRep', 'FreqCardiacaMax', 'AnginoExercicio', 'InclinacaoST' ,'Depressão_ST_antiga' ,'Alvo']\n",
        "\n",
        "# Primeiras 5 linhas\n",
        "df.head()"
      ],
      "metadata": {
        "id": "IV5qKlOsVuQI",
        "colab": {
          "base_uri": "https://localhost:8080/",
          "height": 206
        },
        "outputId": "78edfe0b-b03a-431c-829e-c568474957b4"
      },
      "execution_count": 33,
      "outputs": [
        {
          "output_type": "execute_result",
          "data": {
            "text/plain": [
              "   Idade  Sexo  TipoDor  PressaoSangueRep  Colesterol_Serico  \\\n",
              "0     40     1        2               140                289   \n",
              "1     49     0        3               160                180   \n",
              "2     37     1        2               130                283   \n",
              "3     48     0        4               138                214   \n",
              "4     54     1        3               150                195   \n",
              "\n",
              "   Acucar_sangue_jejum  EletrocardiogramaRep  FreqCardiacaMax  \\\n",
              "0                    0                     0              172   \n",
              "1                    0                     0              156   \n",
              "2                    0                     1               98   \n",
              "3                    0                     0              108   \n",
              "4                    0                     0              122   \n",
              "\n",
              "   AnginoExercicio  InclinacaoST  Depressão_ST_antiga  Alvo  \n",
              "0                0           0.0                    1     0  \n",
              "1                0           1.0                    2     1  \n",
              "2                0           0.0                    1     0  \n",
              "3                1           1.5                    2     1  \n",
              "4                0           0.0                    1     0  "
            ],
            "text/html": [
              "\n",
              "  <div id=\"df-81fe505e-798e-4431-a7ae-1b7e3aee9ec5\" class=\"colab-df-container\">\n",
              "    <div>\n",
              "<style scoped>\n",
              "    .dataframe tbody tr th:only-of-type {\n",
              "        vertical-align: middle;\n",
              "    }\n",
              "\n",
              "    .dataframe tbody tr th {\n",
              "        vertical-align: top;\n",
              "    }\n",
              "\n",
              "    .dataframe thead th {\n",
              "        text-align: right;\n",
              "    }\n",
              "</style>\n",
              "<table border=\"1\" class=\"dataframe\">\n",
              "  <thead>\n",
              "    <tr style=\"text-align: right;\">\n",
              "      <th></th>\n",
              "      <th>Idade</th>\n",
              "      <th>Sexo</th>\n",
              "      <th>TipoDor</th>\n",
              "      <th>PressaoSangueRep</th>\n",
              "      <th>Colesterol_Serico</th>\n",
              "      <th>Acucar_sangue_jejum</th>\n",
              "      <th>EletrocardiogramaRep</th>\n",
              "      <th>FreqCardiacaMax</th>\n",
              "      <th>AnginoExercicio</th>\n",
              "      <th>InclinacaoST</th>\n",
              "      <th>Depressão_ST_antiga</th>\n",
              "      <th>Alvo</th>\n",
              "    </tr>\n",
              "  </thead>\n",
              "  <tbody>\n",
              "    <tr>\n",
              "      <th>0</th>\n",
              "      <td>40</td>\n",
              "      <td>1</td>\n",
              "      <td>2</td>\n",
              "      <td>140</td>\n",
              "      <td>289</td>\n",
              "      <td>0</td>\n",
              "      <td>0</td>\n",
              "      <td>172</td>\n",
              "      <td>0</td>\n",
              "      <td>0.0</td>\n",
              "      <td>1</td>\n",
              "      <td>0</td>\n",
              "    </tr>\n",
              "    <tr>\n",
              "      <th>1</th>\n",
              "      <td>49</td>\n",
              "      <td>0</td>\n",
              "      <td>3</td>\n",
              "      <td>160</td>\n",
              "      <td>180</td>\n",
              "      <td>0</td>\n",
              "      <td>0</td>\n",
              "      <td>156</td>\n",
              "      <td>0</td>\n",
              "      <td>1.0</td>\n",
              "      <td>2</td>\n",
              "      <td>1</td>\n",
              "    </tr>\n",
              "    <tr>\n",
              "      <th>2</th>\n",
              "      <td>37</td>\n",
              "      <td>1</td>\n",
              "      <td>2</td>\n",
              "      <td>130</td>\n",
              "      <td>283</td>\n",
              "      <td>0</td>\n",
              "      <td>1</td>\n",
              "      <td>98</td>\n",
              "      <td>0</td>\n",
              "      <td>0.0</td>\n",
              "      <td>1</td>\n",
              "      <td>0</td>\n",
              "    </tr>\n",
              "    <tr>\n",
              "      <th>3</th>\n",
              "      <td>48</td>\n",
              "      <td>0</td>\n",
              "      <td>4</td>\n",
              "      <td>138</td>\n",
              "      <td>214</td>\n",
              "      <td>0</td>\n",
              "      <td>0</td>\n",
              "      <td>108</td>\n",
              "      <td>1</td>\n",
              "      <td>1.5</td>\n",
              "      <td>2</td>\n",
              "      <td>1</td>\n",
              "    </tr>\n",
              "    <tr>\n",
              "      <th>4</th>\n",
              "      <td>54</td>\n",
              "      <td>1</td>\n",
              "      <td>3</td>\n",
              "      <td>150</td>\n",
              "      <td>195</td>\n",
              "      <td>0</td>\n",
              "      <td>0</td>\n",
              "      <td>122</td>\n",
              "      <td>0</td>\n",
              "      <td>0.0</td>\n",
              "      <td>1</td>\n",
              "      <td>0</td>\n",
              "    </tr>\n",
              "  </tbody>\n",
              "</table>\n",
              "</div>\n",
              "    <div class=\"colab-df-buttons\">\n",
              "\n",
              "  <div class=\"colab-df-container\">\n",
              "    <button class=\"colab-df-convert\" onclick=\"convertToInteractive('df-81fe505e-798e-4431-a7ae-1b7e3aee9ec5')\"\n",
              "            title=\"Convert this dataframe to an interactive table.\"\n",
              "            style=\"display:none;\">\n",
              "\n",
              "  <svg xmlns=\"http://www.w3.org/2000/svg\" height=\"24px\" viewBox=\"0 -960 960 960\">\n",
              "    <path d=\"M120-120v-720h720v720H120Zm60-500h600v-160H180v160Zm220 220h160v-160H400v160Zm0 220h160v-160H400v160ZM180-400h160v-160H180v160Zm440 0h160v-160H620v160ZM180-180h160v-160H180v160Zm440 0h160v-160H620v160Z\"/>\n",
              "  </svg>\n",
              "    </button>\n",
              "\n",
              "  <style>\n",
              "    .colab-df-container {\n",
              "      display:flex;\n",
              "      gap: 12px;\n",
              "    }\n",
              "\n",
              "    .colab-df-convert {\n",
              "      background-color: #E8F0FE;\n",
              "      border: none;\n",
              "      border-radius: 50%;\n",
              "      cursor: pointer;\n",
              "      display: none;\n",
              "      fill: #1967D2;\n",
              "      height: 32px;\n",
              "      padding: 0 0 0 0;\n",
              "      width: 32px;\n",
              "    }\n",
              "\n",
              "    .colab-df-convert:hover {\n",
              "      background-color: #E2EBFA;\n",
              "      box-shadow: 0px 1px 2px rgba(60, 64, 67, 0.3), 0px 1px 3px 1px rgba(60, 64, 67, 0.15);\n",
              "      fill: #174EA6;\n",
              "    }\n",
              "\n",
              "    .colab-df-buttons div {\n",
              "      margin-bottom: 4px;\n",
              "    }\n",
              "\n",
              "    [theme=dark] .colab-df-convert {\n",
              "      background-color: #3B4455;\n",
              "      fill: #D2E3FC;\n",
              "    }\n",
              "\n",
              "    [theme=dark] .colab-df-convert:hover {\n",
              "      background-color: #434B5C;\n",
              "      box-shadow: 0px 1px 3px 1px rgba(0, 0, 0, 0.15);\n",
              "      filter: drop-shadow(0px 1px 2px rgba(0, 0, 0, 0.3));\n",
              "      fill: #FFFFFF;\n",
              "    }\n",
              "  </style>\n",
              "\n",
              "    <script>\n",
              "      const buttonEl =\n",
              "        document.querySelector('#df-81fe505e-798e-4431-a7ae-1b7e3aee9ec5 button.colab-df-convert');\n",
              "      buttonEl.style.display =\n",
              "        google.colab.kernel.accessAllowed ? 'block' : 'none';\n",
              "\n",
              "      async function convertToInteractive(key) {\n",
              "        const element = document.querySelector('#df-81fe505e-798e-4431-a7ae-1b7e3aee9ec5');\n",
              "        const dataTable =\n",
              "          await google.colab.kernel.invokeFunction('convertToInteractive',\n",
              "                                                    [key], {});\n",
              "        if (!dataTable) return;\n",
              "\n",
              "        const docLinkHtml = 'Like what you see? Visit the ' +\n",
              "          '<a target=\"_blank\" href=https://colab.research.google.com/notebooks/data_table.ipynb>data table notebook</a>'\n",
              "          + ' to learn more about interactive tables.';\n",
              "        element.innerHTML = '';\n",
              "        dataTable['output_type'] = 'display_data';\n",
              "        await google.colab.output.renderOutput(dataTable, element);\n",
              "        const docLink = document.createElement('div');\n",
              "        docLink.innerHTML = docLinkHtml;\n",
              "        element.appendChild(docLink);\n",
              "      }\n",
              "    </script>\n",
              "  </div>\n",
              "\n",
              "\n",
              "<div id=\"df-0b372698-06d3-4618-81ff-64e336e5d9e9\">\n",
              "  <button class=\"colab-df-quickchart\" onclick=\"quickchart('df-0b372698-06d3-4618-81ff-64e336e5d9e9')\"\n",
              "            title=\"Suggest charts\"\n",
              "            style=\"display:none;\">\n",
              "\n",
              "<svg xmlns=\"http://www.w3.org/2000/svg\" height=\"24px\"viewBox=\"0 0 24 24\"\n",
              "     width=\"24px\">\n",
              "    <g>\n",
              "        <path d=\"M19 3H5c-1.1 0-2 .9-2 2v14c0 1.1.9 2 2 2h14c1.1 0 2-.9 2-2V5c0-1.1-.9-2-2-2zM9 17H7v-7h2v7zm4 0h-2V7h2v10zm4 0h-2v-4h2v4z\"/>\n",
              "    </g>\n",
              "</svg>\n",
              "  </button>\n",
              "\n",
              "<style>\n",
              "  .colab-df-quickchart {\n",
              "      --bg-color: #E8F0FE;\n",
              "      --fill-color: #1967D2;\n",
              "      --hover-bg-color: #E2EBFA;\n",
              "      --hover-fill-color: #174EA6;\n",
              "      --disabled-fill-color: #AAA;\n",
              "      --disabled-bg-color: #DDD;\n",
              "  }\n",
              "\n",
              "  [theme=dark] .colab-df-quickchart {\n",
              "      --bg-color: #3B4455;\n",
              "      --fill-color: #D2E3FC;\n",
              "      --hover-bg-color: #434B5C;\n",
              "      --hover-fill-color: #FFFFFF;\n",
              "      --disabled-bg-color: #3B4455;\n",
              "      --disabled-fill-color: #666;\n",
              "  }\n",
              "\n",
              "  .colab-df-quickchart {\n",
              "    background-color: var(--bg-color);\n",
              "    border: none;\n",
              "    border-radius: 50%;\n",
              "    cursor: pointer;\n",
              "    display: none;\n",
              "    fill: var(--fill-color);\n",
              "    height: 32px;\n",
              "    padding: 0;\n",
              "    width: 32px;\n",
              "  }\n",
              "\n",
              "  .colab-df-quickchart:hover {\n",
              "    background-color: var(--hover-bg-color);\n",
              "    box-shadow: 0 1px 2px rgba(60, 64, 67, 0.3), 0 1px 3px 1px rgba(60, 64, 67, 0.15);\n",
              "    fill: var(--button-hover-fill-color);\n",
              "  }\n",
              "\n",
              "  .colab-df-quickchart-complete:disabled,\n",
              "  .colab-df-quickchart-complete:disabled:hover {\n",
              "    background-color: var(--disabled-bg-color);\n",
              "    fill: var(--disabled-fill-color);\n",
              "    box-shadow: none;\n",
              "  }\n",
              "\n",
              "  .colab-df-spinner {\n",
              "    border: 2px solid var(--fill-color);\n",
              "    border-color: transparent;\n",
              "    border-bottom-color: var(--fill-color);\n",
              "    animation:\n",
              "      spin 1s steps(1) infinite;\n",
              "  }\n",
              "\n",
              "  @keyframes spin {\n",
              "    0% {\n",
              "      border-color: transparent;\n",
              "      border-bottom-color: var(--fill-color);\n",
              "      border-left-color: var(--fill-color);\n",
              "    }\n",
              "    20% {\n",
              "      border-color: transparent;\n",
              "      border-left-color: var(--fill-color);\n",
              "      border-top-color: var(--fill-color);\n",
              "    }\n",
              "    30% {\n",
              "      border-color: transparent;\n",
              "      border-left-color: var(--fill-color);\n",
              "      border-top-color: var(--fill-color);\n",
              "      border-right-color: var(--fill-color);\n",
              "    }\n",
              "    40% {\n",
              "      border-color: transparent;\n",
              "      border-right-color: var(--fill-color);\n",
              "      border-top-color: var(--fill-color);\n",
              "    }\n",
              "    60% {\n",
              "      border-color: transparent;\n",
              "      border-right-color: var(--fill-color);\n",
              "    }\n",
              "    80% {\n",
              "      border-color: transparent;\n",
              "      border-right-color: var(--fill-color);\n",
              "      border-bottom-color: var(--fill-color);\n",
              "    }\n",
              "    90% {\n",
              "      border-color: transparent;\n",
              "      border-bottom-color: var(--fill-color);\n",
              "    }\n",
              "  }\n",
              "</style>\n",
              "\n",
              "  <script>\n",
              "    async function quickchart(key) {\n",
              "      const quickchartButtonEl =\n",
              "        document.querySelector('#' + key + ' button');\n",
              "      quickchartButtonEl.disabled = true;  // To prevent multiple clicks.\n",
              "      quickchartButtonEl.classList.add('colab-df-spinner');\n",
              "      try {\n",
              "        const charts = await google.colab.kernel.invokeFunction(\n",
              "            'suggestCharts', [key], {});\n",
              "      } catch (error) {\n",
              "        console.error('Error during call to suggestCharts:', error);\n",
              "      }\n",
              "      quickchartButtonEl.classList.remove('colab-df-spinner');\n",
              "      quickchartButtonEl.classList.add('colab-df-quickchart-complete');\n",
              "    }\n",
              "    (() => {\n",
              "      let quickchartButtonEl =\n",
              "        document.querySelector('#df-0b372698-06d3-4618-81ff-64e336e5d9e9 button');\n",
              "      quickchartButtonEl.style.display =\n",
              "        google.colab.kernel.accessAllowed ? 'block' : 'none';\n",
              "    })();\n",
              "  </script>\n",
              "</div>\n",
              "\n",
              "    </div>\n",
              "  </div>\n"
            ],
            "application/vnd.google.colaboratory.intrinsic+json": {
              "type": "dataframe",
              "variable_name": "df",
              "summary": "{\n  \"name\": \"df\",\n  \"rows\": 1190,\n  \"fields\": [\n    {\n      \"column\": \"Idade\",\n      \"properties\": {\n        \"dtype\": \"number\",\n        \"std\": 9,\n        \"min\": 28,\n        \"max\": 77,\n        \"num_unique_values\": 50,\n        \"samples\": [\n          44,\n          68,\n          66\n        ],\n        \"semantic_type\": \"\",\n        \"description\": \"\"\n      }\n    },\n    {\n      \"column\": \"Sexo\",\n      \"properties\": {\n        \"dtype\": \"number\",\n        \"std\": 0,\n        \"min\": 0,\n        \"max\": 1,\n        \"num_unique_values\": 2,\n        \"samples\": [\n          0,\n          1\n        ],\n        \"semantic_type\": \"\",\n        \"description\": \"\"\n      }\n    },\n    {\n      \"column\": \"TipoDor\",\n      \"properties\": {\n        \"dtype\": \"number\",\n        \"std\": 0,\n        \"min\": 1,\n        \"max\": 4,\n        \"num_unique_values\": 4,\n        \"samples\": [\n          3,\n          1\n        ],\n        \"semantic_type\": \"\",\n        \"description\": \"\"\n      }\n    },\n    {\n      \"column\": \"PressaoSangueRep\",\n      \"properties\": {\n        \"dtype\": \"number\",\n        \"std\": 18,\n        \"min\": 0,\n        \"max\": 200,\n        \"num_unique_values\": 67,\n        \"samples\": [\n          165,\n          118\n        ],\n        \"semantic_type\": \"\",\n        \"description\": \"\"\n      }\n    },\n    {\n      \"column\": \"Colesterol_Serico\",\n      \"properties\": {\n        \"dtype\": \"number\",\n        \"std\": 101,\n        \"min\": 0,\n        \"max\": 603,\n        \"num_unique_values\": 222,\n        \"samples\": [\n          305,\n          321\n        ],\n        \"semantic_type\": \"\",\n        \"description\": \"\"\n      }\n    },\n    {\n      \"column\": \"Acucar_sangue_jejum\",\n      \"properties\": {\n        \"dtype\": \"number\",\n        \"std\": 0,\n        \"min\": 0,\n        \"max\": 1,\n        \"num_unique_values\": 2,\n        \"samples\": [\n          1,\n          0\n        ],\n        \"semantic_type\": \"\",\n        \"description\": \"\"\n      }\n    },\n    {\n      \"column\": \"EletrocardiogramaRep\",\n      \"properties\": {\n        \"dtype\": \"number\",\n        \"std\": 0,\n        \"min\": 0,\n        \"max\": 2,\n        \"num_unique_values\": 3,\n        \"samples\": [\n          0,\n          1\n        ],\n        \"semantic_type\": \"\",\n        \"description\": \"\"\n      }\n    },\n    {\n      \"column\": \"FreqCardiacaMax\",\n      \"properties\": {\n        \"dtype\": \"number\",\n        \"std\": 25,\n        \"min\": 60,\n        \"max\": 202,\n        \"num_unique_values\": 119,\n        \"samples\": [\n          132,\n          157\n        ],\n        \"semantic_type\": \"\",\n        \"description\": \"\"\n      }\n    },\n    {\n      \"column\": \"AnginoExercicio\",\n      \"properties\": {\n        \"dtype\": \"number\",\n        \"std\": 0,\n        \"min\": 0,\n        \"max\": 1,\n        \"num_unique_values\": 2,\n        \"samples\": [\n          1,\n          0\n        ],\n        \"semantic_type\": \"\",\n        \"description\": \"\"\n      }\n    },\n    {\n      \"column\": \"InclinacaoST\",\n      \"properties\": {\n        \"dtype\": \"number\",\n        \"std\": 1.0863372185219862,\n        \"min\": -2.6,\n        \"max\": 6.2,\n        \"num_unique_values\": 53,\n        \"samples\": [\n          1.3,\n          0.6\n        ],\n        \"semantic_type\": \"\",\n        \"description\": \"\"\n      }\n    },\n    {\n      \"column\": \"Depress\\u00e3o_ST_antiga\",\n      \"properties\": {\n        \"dtype\": \"number\",\n        \"std\": 0,\n        \"min\": 0,\n        \"max\": 3,\n        \"num_unique_values\": 4,\n        \"samples\": [\n          2,\n          0\n        ],\n        \"semantic_type\": \"\",\n        \"description\": \"\"\n      }\n    },\n    {\n      \"column\": \"Alvo\",\n      \"properties\": {\n        \"dtype\": \"number\",\n        \"std\": 0,\n        \"min\": 0,\n        \"max\": 1,\n        \"num_unique_values\": 2,\n        \"samples\": [\n          1,\n          0\n        ],\n        \"semantic_type\": \"\",\n        \"description\": \"\"\n      }\n    }\n  ]\n}"
            }
          },
          "metadata": {},
          "execution_count": 33
        }
      ]
    },
    {
      "cell_type": "markdown",
      "source": [
        "# Informações Gerais e Estatísticas Descritivas"
      ],
      "metadata": {
        "id": "MBdeFO_ryVSm"
      }
    },
    {
      "cell_type": "code",
      "source": [
        "# Mostra as dimensões do dataframe\n",
        "df.shape"
      ],
      "metadata": {
        "colab": {
          "base_uri": "https://localhost:8080/"
        },
        "id": "5o3-xaQXyXyw",
        "outputId": "2b522c0f-6ba2-4da4-b3d3-58284b7a1bd7"
      },
      "execution_count": 34,
      "outputs": [
        {
          "output_type": "execute_result",
          "data": {
            "text/plain": [
              "(1190, 12)"
            ]
          },
          "metadata": {},
          "execution_count": 34
        }
      ]
    },
    {
      "cell_type": "code",
      "source": [
        "# Mostra as informações do dataframe\n",
        "df.info()"
      ],
      "metadata": {
        "colab": {
          "base_uri": "https://localhost:8080/"
        },
        "id": "t5eNA-PKydoe",
        "outputId": "6f85afd5-232a-4871-e65d-3eefc5b76011"
      },
      "execution_count": 35,
      "outputs": [
        {
          "output_type": "stream",
          "name": "stdout",
          "text": [
            "<class 'pandas.core.frame.DataFrame'>\n",
            "RangeIndex: 1190 entries, 0 to 1189\n",
            "Data columns (total 12 columns):\n",
            " #   Column                Non-Null Count  Dtype  \n",
            "---  ------                --------------  -----  \n",
            " 0   Idade                 1190 non-null   int64  \n",
            " 1   Sexo                  1190 non-null   int64  \n",
            " 2   TipoDor               1190 non-null   int64  \n",
            " 3   PressaoSangueRep      1190 non-null   int64  \n",
            " 4   Colesterol_Serico     1190 non-null   int64  \n",
            " 5   Acucar_sangue_jejum   1190 non-null   int64  \n",
            " 6   EletrocardiogramaRep  1190 non-null   int64  \n",
            " 7   FreqCardiacaMax       1190 non-null   int64  \n",
            " 8   AnginoExercicio       1190 non-null   int64  \n",
            " 9   InclinacaoST          1190 non-null   float64\n",
            " 10  Depressão_ST_antiga   1190 non-null   int64  \n",
            " 11  Alvo                  1190 non-null   int64  \n",
            "dtypes: float64(1), int64(11)\n",
            "memory usage: 111.7 KB\n"
          ]
        }
      ]
    },
    {
      "cell_type": "code",
      "source": [
        "# Verificando valores missing\n",
        "df.isnull().sum()"
      ],
      "metadata": {
        "colab": {
          "base_uri": "https://localhost:8080/"
        },
        "id": "LERj1RZlytAh",
        "outputId": "e3cd1b61-9f2a-4453-905d-5f6f4bc85550"
      },
      "execution_count": 36,
      "outputs": [
        {
          "output_type": "execute_result",
          "data": {
            "text/plain": [
              "Idade                   0\n",
              "Sexo                    0\n",
              "TipoDor                 0\n",
              "PressaoSangueRep        0\n",
              "Colesterol_Serico       0\n",
              "Acucar_sangue_jejum     0\n",
              "EletrocardiogramaRep    0\n",
              "FreqCardiacaMax         0\n",
              "AnginoExercicio         0\n",
              "InclinacaoST            0\n",
              "Depressão_ST_antiga     0\n",
              "Alvo                    0\n",
              "dtype: int64"
            ]
          },
          "metadata": {},
          "execution_count": 36
        }
      ]
    },
    {
      "cell_type": "markdown",
      "source": [
        "Não existem valores faltantes neste dataset"
      ],
      "metadata": {
        "id": "lQ9hgBXOzLjW"
      }
    },
    {
      "cell_type": "code",
      "source": [
        "# Resumo estatístico do dataframe\n",
        "df.describe()"
      ],
      "metadata": {
        "colab": {
          "base_uri": "https://localhost:8080/",
          "height": 300
        },
        "id": "sryo_ybhzMa0",
        "outputId": "56e64360-664b-4abb-85c7-7a13bf08f4d5"
      },
      "execution_count": 38,
      "outputs": [
        {
          "output_type": "execute_result",
          "data": {
            "text/plain": [
              "             Idade         Sexo      TipoDor  PressaoSangueRep  \\\n",
              "count  1190.000000  1190.000000  1190.000000       1190.000000   \n",
              "mean     53.720168     0.763866     3.232773        132.153782   \n",
              "std       9.358203     0.424884     0.935480         18.368823   \n",
              "min      28.000000     0.000000     1.000000          0.000000   \n",
              "25%      47.000000     1.000000     3.000000        120.000000   \n",
              "50%      54.000000     1.000000     4.000000        130.000000   \n",
              "75%      60.000000     1.000000     4.000000        140.000000   \n",
              "max      77.000000     1.000000     4.000000        200.000000   \n",
              "\n",
              "       Colesterol_Serico  Acucar_sangue_jejum  EletrocardiogramaRep  \\\n",
              "count        1190.000000          1190.000000           1190.000000   \n",
              "mean          210.363866             0.213445              0.698319   \n",
              "std           101.420489             0.409912              0.870359   \n",
              "min             0.000000             0.000000              0.000000   \n",
              "25%           188.000000             0.000000              0.000000   \n",
              "50%           229.000000             0.000000              0.000000   \n",
              "75%           269.750000             0.000000              2.000000   \n",
              "max           603.000000             1.000000              2.000000   \n",
              "\n",
              "       FreqCardiacaMax  AnginoExercicio  InclinacaoST  Depressão_ST_antiga  \\\n",
              "count      1190.000000      1190.000000   1190.000000          1190.000000   \n",
              "mean        139.732773         0.387395      0.922773             1.624370   \n",
              "std          25.517636         0.487360      1.086337             0.610459   \n",
              "min          60.000000         0.000000     -2.600000             0.000000   \n",
              "25%         121.000000         0.000000      0.000000             1.000000   \n",
              "50%         140.500000         0.000000      0.600000             2.000000   \n",
              "75%         160.000000         1.000000      1.600000             2.000000   \n",
              "max         202.000000         1.000000      6.200000             3.000000   \n",
              "\n",
              "              Alvo  \n",
              "count  1190.000000  \n",
              "mean      0.528571  \n",
              "std       0.499393  \n",
              "min       0.000000  \n",
              "25%       0.000000  \n",
              "50%       1.000000  \n",
              "75%       1.000000  \n",
              "max       1.000000  "
            ],
            "text/html": [
              "\n",
              "  <div id=\"df-ee5dd0d9-44b5-4eb5-87c7-948f7e535008\" class=\"colab-df-container\">\n",
              "    <div>\n",
              "<style scoped>\n",
              "    .dataframe tbody tr th:only-of-type {\n",
              "        vertical-align: middle;\n",
              "    }\n",
              "\n",
              "    .dataframe tbody tr th {\n",
              "        vertical-align: top;\n",
              "    }\n",
              "\n",
              "    .dataframe thead th {\n",
              "        text-align: right;\n",
              "    }\n",
              "</style>\n",
              "<table border=\"1\" class=\"dataframe\">\n",
              "  <thead>\n",
              "    <tr style=\"text-align: right;\">\n",
              "      <th></th>\n",
              "      <th>Idade</th>\n",
              "      <th>Sexo</th>\n",
              "      <th>TipoDor</th>\n",
              "      <th>PressaoSangueRep</th>\n",
              "      <th>Colesterol_Serico</th>\n",
              "      <th>Acucar_sangue_jejum</th>\n",
              "      <th>EletrocardiogramaRep</th>\n",
              "      <th>FreqCardiacaMax</th>\n",
              "      <th>AnginoExercicio</th>\n",
              "      <th>InclinacaoST</th>\n",
              "      <th>Depressão_ST_antiga</th>\n",
              "      <th>Alvo</th>\n",
              "    </tr>\n",
              "  </thead>\n",
              "  <tbody>\n",
              "    <tr>\n",
              "      <th>count</th>\n",
              "      <td>1190.000000</td>\n",
              "      <td>1190.000000</td>\n",
              "      <td>1190.000000</td>\n",
              "      <td>1190.000000</td>\n",
              "      <td>1190.000000</td>\n",
              "      <td>1190.000000</td>\n",
              "      <td>1190.000000</td>\n",
              "      <td>1190.000000</td>\n",
              "      <td>1190.000000</td>\n",
              "      <td>1190.000000</td>\n",
              "      <td>1190.000000</td>\n",
              "      <td>1190.000000</td>\n",
              "    </tr>\n",
              "    <tr>\n",
              "      <th>mean</th>\n",
              "      <td>53.720168</td>\n",
              "      <td>0.763866</td>\n",
              "      <td>3.232773</td>\n",
              "      <td>132.153782</td>\n",
              "      <td>210.363866</td>\n",
              "      <td>0.213445</td>\n",
              "      <td>0.698319</td>\n",
              "      <td>139.732773</td>\n",
              "      <td>0.387395</td>\n",
              "      <td>0.922773</td>\n",
              "      <td>1.624370</td>\n",
              "      <td>0.528571</td>\n",
              "    </tr>\n",
              "    <tr>\n",
              "      <th>std</th>\n",
              "      <td>9.358203</td>\n",
              "      <td>0.424884</td>\n",
              "      <td>0.935480</td>\n",
              "      <td>18.368823</td>\n",
              "      <td>101.420489</td>\n",
              "      <td>0.409912</td>\n",
              "      <td>0.870359</td>\n",
              "      <td>25.517636</td>\n",
              "      <td>0.487360</td>\n",
              "      <td>1.086337</td>\n",
              "      <td>0.610459</td>\n",
              "      <td>0.499393</td>\n",
              "    </tr>\n",
              "    <tr>\n",
              "      <th>min</th>\n",
              "      <td>28.000000</td>\n",
              "      <td>0.000000</td>\n",
              "      <td>1.000000</td>\n",
              "      <td>0.000000</td>\n",
              "      <td>0.000000</td>\n",
              "      <td>0.000000</td>\n",
              "      <td>0.000000</td>\n",
              "      <td>60.000000</td>\n",
              "      <td>0.000000</td>\n",
              "      <td>-2.600000</td>\n",
              "      <td>0.000000</td>\n",
              "      <td>0.000000</td>\n",
              "    </tr>\n",
              "    <tr>\n",
              "      <th>25%</th>\n",
              "      <td>47.000000</td>\n",
              "      <td>1.000000</td>\n",
              "      <td>3.000000</td>\n",
              "      <td>120.000000</td>\n",
              "      <td>188.000000</td>\n",
              "      <td>0.000000</td>\n",
              "      <td>0.000000</td>\n",
              "      <td>121.000000</td>\n",
              "      <td>0.000000</td>\n",
              "      <td>0.000000</td>\n",
              "      <td>1.000000</td>\n",
              "      <td>0.000000</td>\n",
              "    </tr>\n",
              "    <tr>\n",
              "      <th>50%</th>\n",
              "      <td>54.000000</td>\n",
              "      <td>1.000000</td>\n",
              "      <td>4.000000</td>\n",
              "      <td>130.000000</td>\n",
              "      <td>229.000000</td>\n",
              "      <td>0.000000</td>\n",
              "      <td>0.000000</td>\n",
              "      <td>140.500000</td>\n",
              "      <td>0.000000</td>\n",
              "      <td>0.600000</td>\n",
              "      <td>2.000000</td>\n",
              "      <td>1.000000</td>\n",
              "    </tr>\n",
              "    <tr>\n",
              "      <th>75%</th>\n",
              "      <td>60.000000</td>\n",
              "      <td>1.000000</td>\n",
              "      <td>4.000000</td>\n",
              "      <td>140.000000</td>\n",
              "      <td>269.750000</td>\n",
              "      <td>0.000000</td>\n",
              "      <td>2.000000</td>\n",
              "      <td>160.000000</td>\n",
              "      <td>1.000000</td>\n",
              "      <td>1.600000</td>\n",
              "      <td>2.000000</td>\n",
              "      <td>1.000000</td>\n",
              "    </tr>\n",
              "    <tr>\n",
              "      <th>max</th>\n",
              "      <td>77.000000</td>\n",
              "      <td>1.000000</td>\n",
              "      <td>4.000000</td>\n",
              "      <td>200.000000</td>\n",
              "      <td>603.000000</td>\n",
              "      <td>1.000000</td>\n",
              "      <td>2.000000</td>\n",
              "      <td>202.000000</td>\n",
              "      <td>1.000000</td>\n",
              "      <td>6.200000</td>\n",
              "      <td>3.000000</td>\n",
              "      <td>1.000000</td>\n",
              "    </tr>\n",
              "  </tbody>\n",
              "</table>\n",
              "</div>\n",
              "    <div class=\"colab-df-buttons\">\n",
              "\n",
              "  <div class=\"colab-df-container\">\n",
              "    <button class=\"colab-df-convert\" onclick=\"convertToInteractive('df-ee5dd0d9-44b5-4eb5-87c7-948f7e535008')\"\n",
              "            title=\"Convert this dataframe to an interactive table.\"\n",
              "            style=\"display:none;\">\n",
              "\n",
              "  <svg xmlns=\"http://www.w3.org/2000/svg\" height=\"24px\" viewBox=\"0 -960 960 960\">\n",
              "    <path d=\"M120-120v-720h720v720H120Zm60-500h600v-160H180v160Zm220 220h160v-160H400v160Zm0 220h160v-160H400v160ZM180-400h160v-160H180v160Zm440 0h160v-160H620v160ZM180-180h160v-160H180v160Zm440 0h160v-160H620v160Z\"/>\n",
              "  </svg>\n",
              "    </button>\n",
              "\n",
              "  <style>\n",
              "    .colab-df-container {\n",
              "      display:flex;\n",
              "      gap: 12px;\n",
              "    }\n",
              "\n",
              "    .colab-df-convert {\n",
              "      background-color: #E8F0FE;\n",
              "      border: none;\n",
              "      border-radius: 50%;\n",
              "      cursor: pointer;\n",
              "      display: none;\n",
              "      fill: #1967D2;\n",
              "      height: 32px;\n",
              "      padding: 0 0 0 0;\n",
              "      width: 32px;\n",
              "    }\n",
              "\n",
              "    .colab-df-convert:hover {\n",
              "      background-color: #E2EBFA;\n",
              "      box-shadow: 0px 1px 2px rgba(60, 64, 67, 0.3), 0px 1px 3px 1px rgba(60, 64, 67, 0.15);\n",
              "      fill: #174EA6;\n",
              "    }\n",
              "\n",
              "    .colab-df-buttons div {\n",
              "      margin-bottom: 4px;\n",
              "    }\n",
              "\n",
              "    [theme=dark] .colab-df-convert {\n",
              "      background-color: #3B4455;\n",
              "      fill: #D2E3FC;\n",
              "    }\n",
              "\n",
              "    [theme=dark] .colab-df-convert:hover {\n",
              "      background-color: #434B5C;\n",
              "      box-shadow: 0px 1px 3px 1px rgba(0, 0, 0, 0.15);\n",
              "      filter: drop-shadow(0px 1px 2px rgba(0, 0, 0, 0.3));\n",
              "      fill: #FFFFFF;\n",
              "    }\n",
              "  </style>\n",
              "\n",
              "    <script>\n",
              "      const buttonEl =\n",
              "        document.querySelector('#df-ee5dd0d9-44b5-4eb5-87c7-948f7e535008 button.colab-df-convert');\n",
              "      buttonEl.style.display =\n",
              "        google.colab.kernel.accessAllowed ? 'block' : 'none';\n",
              "\n",
              "      async function convertToInteractive(key) {\n",
              "        const element = document.querySelector('#df-ee5dd0d9-44b5-4eb5-87c7-948f7e535008');\n",
              "        const dataTable =\n",
              "          await google.colab.kernel.invokeFunction('convertToInteractive',\n",
              "                                                    [key], {});\n",
              "        if (!dataTable) return;\n",
              "\n",
              "        const docLinkHtml = 'Like what you see? Visit the ' +\n",
              "          '<a target=\"_blank\" href=https://colab.research.google.com/notebooks/data_table.ipynb>data table notebook</a>'\n",
              "          + ' to learn more about interactive tables.';\n",
              "        element.innerHTML = '';\n",
              "        dataTable['output_type'] = 'display_data';\n",
              "        await google.colab.output.renderOutput(dataTable, element);\n",
              "        const docLink = document.createElement('div');\n",
              "        docLink.innerHTML = docLinkHtml;\n",
              "        element.appendChild(docLink);\n",
              "      }\n",
              "    </script>\n",
              "  </div>\n",
              "\n",
              "\n",
              "<div id=\"df-47492e3d-9ef7-41fa-bb06-c6ced65a6727\">\n",
              "  <button class=\"colab-df-quickchart\" onclick=\"quickchart('df-47492e3d-9ef7-41fa-bb06-c6ced65a6727')\"\n",
              "            title=\"Suggest charts\"\n",
              "            style=\"display:none;\">\n",
              "\n",
              "<svg xmlns=\"http://www.w3.org/2000/svg\" height=\"24px\"viewBox=\"0 0 24 24\"\n",
              "     width=\"24px\">\n",
              "    <g>\n",
              "        <path d=\"M19 3H5c-1.1 0-2 .9-2 2v14c0 1.1.9 2 2 2h14c1.1 0 2-.9 2-2V5c0-1.1-.9-2-2-2zM9 17H7v-7h2v7zm4 0h-2V7h2v10zm4 0h-2v-4h2v4z\"/>\n",
              "    </g>\n",
              "</svg>\n",
              "  </button>\n",
              "\n",
              "<style>\n",
              "  .colab-df-quickchart {\n",
              "      --bg-color: #E8F0FE;\n",
              "      --fill-color: #1967D2;\n",
              "      --hover-bg-color: #E2EBFA;\n",
              "      --hover-fill-color: #174EA6;\n",
              "      --disabled-fill-color: #AAA;\n",
              "      --disabled-bg-color: #DDD;\n",
              "  }\n",
              "\n",
              "  [theme=dark] .colab-df-quickchart {\n",
              "      --bg-color: #3B4455;\n",
              "      --fill-color: #D2E3FC;\n",
              "      --hover-bg-color: #434B5C;\n",
              "      --hover-fill-color: #FFFFFF;\n",
              "      --disabled-bg-color: #3B4455;\n",
              "      --disabled-fill-color: #666;\n",
              "  }\n",
              "\n",
              "  .colab-df-quickchart {\n",
              "    background-color: var(--bg-color);\n",
              "    border: none;\n",
              "    border-radius: 50%;\n",
              "    cursor: pointer;\n",
              "    display: none;\n",
              "    fill: var(--fill-color);\n",
              "    height: 32px;\n",
              "    padding: 0;\n",
              "    width: 32px;\n",
              "  }\n",
              "\n",
              "  .colab-df-quickchart:hover {\n",
              "    background-color: var(--hover-bg-color);\n",
              "    box-shadow: 0 1px 2px rgba(60, 64, 67, 0.3), 0 1px 3px 1px rgba(60, 64, 67, 0.15);\n",
              "    fill: var(--button-hover-fill-color);\n",
              "  }\n",
              "\n",
              "  .colab-df-quickchart-complete:disabled,\n",
              "  .colab-df-quickchart-complete:disabled:hover {\n",
              "    background-color: var(--disabled-bg-color);\n",
              "    fill: var(--disabled-fill-color);\n",
              "    box-shadow: none;\n",
              "  }\n",
              "\n",
              "  .colab-df-spinner {\n",
              "    border: 2px solid var(--fill-color);\n",
              "    border-color: transparent;\n",
              "    border-bottom-color: var(--fill-color);\n",
              "    animation:\n",
              "      spin 1s steps(1) infinite;\n",
              "  }\n",
              "\n",
              "  @keyframes spin {\n",
              "    0% {\n",
              "      border-color: transparent;\n",
              "      border-bottom-color: var(--fill-color);\n",
              "      border-left-color: var(--fill-color);\n",
              "    }\n",
              "    20% {\n",
              "      border-color: transparent;\n",
              "      border-left-color: var(--fill-color);\n",
              "      border-top-color: var(--fill-color);\n",
              "    }\n",
              "    30% {\n",
              "      border-color: transparent;\n",
              "      border-left-color: var(--fill-color);\n",
              "      border-top-color: var(--fill-color);\n",
              "      border-right-color: var(--fill-color);\n",
              "    }\n",
              "    40% {\n",
              "      border-color: transparent;\n",
              "      border-right-color: var(--fill-color);\n",
              "      border-top-color: var(--fill-color);\n",
              "    }\n",
              "    60% {\n",
              "      border-color: transparent;\n",
              "      border-right-color: var(--fill-color);\n",
              "    }\n",
              "    80% {\n",
              "      border-color: transparent;\n",
              "      border-right-color: var(--fill-color);\n",
              "      border-bottom-color: var(--fill-color);\n",
              "    }\n",
              "    90% {\n",
              "      border-color: transparent;\n",
              "      border-bottom-color: var(--fill-color);\n",
              "    }\n",
              "  }\n",
              "</style>\n",
              "\n",
              "  <script>\n",
              "    async function quickchart(key) {\n",
              "      const quickchartButtonEl =\n",
              "        document.querySelector('#' + key + ' button');\n",
              "      quickchartButtonEl.disabled = true;  // To prevent multiple clicks.\n",
              "      quickchartButtonEl.classList.add('colab-df-spinner');\n",
              "      try {\n",
              "        const charts = await google.colab.kernel.invokeFunction(\n",
              "            'suggestCharts', [key], {});\n",
              "      } catch (error) {\n",
              "        console.error('Error during call to suggestCharts:', error);\n",
              "      }\n",
              "      quickchartButtonEl.classList.remove('colab-df-spinner');\n",
              "      quickchartButtonEl.classList.add('colab-df-quickchart-complete');\n",
              "    }\n",
              "    (() => {\n",
              "      let quickchartButtonEl =\n",
              "        document.querySelector('#df-47492e3d-9ef7-41fa-bb06-c6ced65a6727 button');\n",
              "      quickchartButtonEl.style.display =\n",
              "        google.colab.kernel.accessAllowed ? 'block' : 'none';\n",
              "    })();\n",
              "  </script>\n",
              "</div>\n",
              "\n",
              "    </div>\n",
              "  </div>\n"
            ],
            "application/vnd.google.colaboratory.intrinsic+json": {
              "type": "dataframe",
              "summary": "{\n  \"name\": \"df\",\n  \"rows\": 8,\n  \"fields\": [\n    {\n      \"column\": \"Idade\",\n      \"properties\": {\n        \"dtype\": \"number\",\n        \"std\": 404.62708498303755,\n        \"min\": 9.358202797635386,\n        \"max\": 1190.0,\n        \"num_unique_values\": 8,\n        \"samples\": [\n          53.72016806722689,\n          54.0,\n          1190.0\n        ],\n        \"semantic_type\": \"\",\n        \"description\": \"\"\n      }\n    },\n    {\n      \"column\": \"Sexo\",\n      \"properties\": {\n        \"dtype\": \"number\",\n        \"std\": 420.4666192873422,\n        \"min\": 0.0,\n        \"max\": 1190.0,\n        \"num_unique_values\": 5,\n        \"samples\": [\n          0.7638655462184873,\n          1.0,\n          0.4248843096754764\n        ],\n        \"semantic_type\": \"\",\n        \"description\": \"\"\n      }\n    },\n    {\n      \"column\": \"TipoDor\",\n      \"properties\": {\n        \"dtype\": \"number\",\n        \"std\": 419.71179324661676,\n        \"min\": 0.9354803611453992,\n        \"max\": 1190.0,\n        \"num_unique_values\": 6,\n        \"samples\": [\n          1190.0,\n          3.2327731092436975,\n          4.0\n        ],\n        \"semantic_type\": \"\",\n        \"description\": \"\"\n      }\n    },\n    {\n      \"column\": \"PressaoSangueRep\",\n      \"properties\": {\n        \"dtype\": \"number\",\n        \"std\": 388.9431366122736,\n        \"min\": 0.0,\n        \"max\": 1190.0,\n        \"num_unique_values\": 8,\n        \"samples\": [\n          132.15378151260504,\n          130.0,\n          1190.0\n        ],\n        \"semantic_type\": \"\",\n        \"description\": \"\"\n      }\n    },\n    {\n      \"column\": \"Colesterol_Serico\",\n      \"properties\": {\n        \"dtype\": \"number\",\n        \"std\": 381.8591975767479,\n        \"min\": 0.0,\n        \"max\": 1190.0,\n        \"num_unique_values\": 8,\n        \"samples\": [\n          210.36386554621848,\n          229.0,\n          1190.0\n        ],\n        \"semantic_type\": \"\",\n        \"description\": \"\"\n      }\n    },\n    {\n      \"column\": \"Acucar_sangue_jejum\",\n      \"properties\": {\n        \"dtype\": \"number\",\n        \"std\": 420.6466850369232,\n        \"min\": 0.0,\n        \"max\": 1190.0,\n        \"num_unique_values\": 5,\n        \"samples\": [\n          0.2134453781512605,\n          1.0,\n          0.4099117568473306\n        ],\n        \"semantic_type\": \"\",\n        \"description\": \"\"\n      }\n    },\n    {\n      \"column\": \"EletrocardiogramaRep\",\n      \"properties\": {\n        \"dtype\": \"number\",\n        \"std\": 420.44809211602285,\n        \"min\": 0.0,\n        \"max\": 1190.0,\n        \"num_unique_values\": 5,\n        \"samples\": [\n          0.6983193277310924,\n          2.0,\n          0.8703588379852838\n        ],\n        \"semantic_type\": \"\",\n        \"description\": \"\"\n      }\n    },\n    {\n      \"column\": \"FreqCardiacaMax\",\n      \"properties\": {\n        \"dtype\": \"number\",\n        \"std\": 381.93094813522424,\n        \"min\": 25.517635548982874,\n        \"max\": 1190.0,\n        \"num_unique_values\": 8,\n        \"samples\": [\n          139.7327731092437,\n          140.5,\n          1190.0\n        ],\n        \"semantic_type\": \"\",\n        \"description\": \"\"\n      }\n    },\n    {\n      \"column\": \"AnginoExercicio\",\n      \"properties\": {\n        \"dtype\": \"number\",\n        \"std\": 420.58354274381423,\n        \"min\": 0.0,\n        \"max\": 1190.0,\n        \"num_unique_values\": 5,\n        \"samples\": [\n          0.3873949579831933,\n          1.0,\n          0.48735992951791174\n        ],\n        \"semantic_type\": \"\",\n        \"description\": \"\"\n      }\n    },\n    {\n      \"column\": \"InclinacaoST\",\n      \"properties\": {\n        \"dtype\": \"number\",\n        \"std\": 420.34115711284187,\n        \"min\": -2.6,\n        \"max\": 1190.0,\n        \"num_unique_values\": 8,\n        \"samples\": [\n          0.9227731092436974,\n          0.6,\n          1190.0\n        ],\n        \"semantic_type\": \"\",\n        \"description\": \"\"\n      }\n    },\n    {\n      \"column\": \"Depress\\u00e3o_ST_antiga\",\n      \"properties\": {\n        \"dtype\": \"number\",\n        \"std\": 420.21262571225157,\n        \"min\": 0.0,\n        \"max\": 1190.0,\n        \"num_unique_values\": 7,\n        \"samples\": [\n          1190.0,\n          1.6243697478991597,\n          2.0\n        ],\n        \"semantic_type\": \"\",\n        \"description\": \"\"\n      }\n    },\n    {\n      \"column\": \"Alvo\",\n      \"properties\": {\n        \"dtype\": \"number\",\n        \"std\": 420.5252975807134,\n        \"min\": 0.0,\n        \"max\": 1190.0,\n        \"num_unique_values\": 5,\n        \"samples\": [\n          0.5285714285714286,\n          1.0,\n          0.4993928790311868\n        ],\n        \"semantic_type\": \"\",\n        \"description\": \"\"\n      }\n    }\n  ]\n}"
            }
          },
          "metadata": {},
          "execution_count": 38
        }
      ]
    },
    {
      "cell_type": "markdown",
      "source": [
        "# Feature selection"
      ],
      "metadata": {
        "id": "J6IMgzvIztBX"
      }
    },
    {
      "cell_type": "code",
      "source": [
        "from sklearn.model_selection import train_test_split\n",
        "\n",
        "# Selecionar atributos com base nos resultados dos métodos de seleção de características\n",
        "# Vamos usar os atributos selecionados pelos três métodos\n",
        "atributos_selecionados = ['Idade', 'TipoDor', 'PressaoSangueRep', 'FreqCardiacaMax', 'InclinacaoST']\n",
        "\n",
        "# Separar os dados em features (X) e alvo (y) usando apenas os atributos selecionados\n",
        "X = df[atributos_selecionados]\n",
        "y = df['Alvo']\n",
        "\n",
        "# Dividir os dados em conjunto de treino e conjunto de teste\n",
        "X_treino, X_teste, y_treino, y_teste = train_test_split(X, y, test_size=0.2, random_state=42)\n",
        "\n",
        "# Verificar o tamanho dos conjuntos\n",
        "print(\"Tamanho do conjunto de treino:\", X_treino.shape[0])\n",
        "print(\"Tamanho do conjunto de teste:\", X_teste.shape[0])\n"
      ],
      "metadata": {
        "id": "092U8WDwtuQt"
      },
      "execution_count": 39,
      "outputs": []
    },
    {
      "cell_type": "markdown",
      "source": [
        " SelecKBest"
      ],
      "metadata": {
        "id": "mEVHP0LoA00s"
      }
    },
    {
      "cell_type": "code",
      "source": [
        "from sklearn.feature_selection import SelectKBest, f_classif\n",
        "\n",
        "# Número original de atributos\n",
        "num_original_atributos = len(X.columns)\n",
        "\n",
        "# Definindo o número de características a serem selecionadas\n",
        "k_features = 5\n",
        "\n",
        "# Aplicando o SelectKBest com o teste ANOVA\n",
        "selector = SelectKBest(score_func=f_classif, k=k_features)\n",
        "X_selected = selector.fit_transform(X, y)\n",
        "\n",
        "# Número reduzido de atributos\n",
        "num_reduzido_atributos = X_selected.shape[1]\n",
        "\n",
        "# Obtendo os índices das características selecionadas\n",
        "selected_indices = selector.get_support(indices=True)\n",
        "\n",
        "# Obtendo os nomes das características selecionadas\n",
        "selected_features = X.columns[selected_indices]\n",
        "\n",
        "# Scores dos atributos originais\n",
        "scores = selector.scores_\n",
        "\n",
        "# Exibindo as informações\n",
        "print(\"Número original de atributos:\", num_original_atributos)\n",
        "print(\"Número reduzido de atributos:\", num_reduzido_atributos)\n",
        "print(\"Atributos originais:\")\n",
        "for i, col in enumerate(X.columns):\n",
        "    print(f\"{i+1}. {col} - Score: {scores[i]}\")\n",
        "print(\"\\nAtributos selecionados:\")\n",
        "print(selected_features)\n"
      ],
      "metadata": {
        "id": "wCXwgX8Uz654",
        "colab": {
          "base_uri": "https://localhost:8080/"
        },
        "outputId": "5efbaac5-c030-46a6-8c8a-fb7745b912b9"
      },
      "execution_count": 40,
      "outputs": [
        {
          "output_type": "stream",
          "name": "stdout",
          "text": [
            "Número original de atributos: 11\n",
            "Número reduzido de atributos: 5\n",
            "Atributos originais:\n",
            "1. Idade - Score: 87.5801576126087\n",
            "2. Sexo - Score: 127.45003650477256\n",
            "3. TipoDor - Score: 319.07266055052827\n",
            "4. PressaoSangueRep - Score: 17.774983624045202\n",
            "5. Colesterol_Serico - Score: 48.661642317714595\n",
            "6. Acucar_sangue_jejum - Score: 58.533162916237494\n",
            "7. EletrocardiogramaRep - Score: 6.3752018041145\n",
            "8. FreqCardiacaMax - Score: 244.70425915457642\n",
            "9. AnginoExercicio - Score: 358.49258024986034\n",
            "10. InclinacaoST - Score: 224.11842731825317\n",
            "11. Depressão_ST_antiga - Score: 408.0006915889481\n",
            "\n",
            "Atributos selecionados:\n",
            "Index(['TipoDor', 'FreqCardiacaMax', 'AnginoExercicio', 'InclinacaoST',\n",
            "       'Depressão_ST_antiga'],\n",
            "      dtype='object')\n"
          ]
        }
      ]
    },
    {
      "cell_type": "markdown",
      "source": [
        "Algoritmo de Regressão Logística"
      ],
      "metadata": {
        "id": "zyHemnAWqsVD"
      }
    },
    {
      "cell_type": "code",
      "source": [
        "from sklearn.feature_selection import SelectFromModel\n",
        "from sklearn.linear_model import LogisticRegression\n",
        "\n",
        "# Criando o modelo de Regressão Logística\n",
        "logistic_regression_model = LogisticRegression(max_iter=1000)\n",
        "\n",
        "# Aplicando o SelectFromModel\n",
        "selector = SelectFromModel(estimator=logistic_regression_model)\n",
        "X_selected = selector.fit_transform(X, y)\n",
        "\n",
        "# Obtendo as máscaras de características selecionadas\n",
        "selected_mask = selector.get_support()\n",
        "\n",
        "# Obtendo os nomes das características selecionadas\n",
        "selected_features = X.columns[selected_mask]\n",
        "\n",
        "# Número original de atributos\n",
        "num_original_atributos = len(X.columns)\n",
        "\n",
        "# Número reduzido de atributos\n",
        "num_reduzido_atributos = X_selected.shape[1]\n",
        "\n",
        "# Exibindo as informações\n",
        "print(\"Número original de atributos:\", num_original_atributos)\n",
        "print(\"Número reduzido de atributos:\", num_reduzido_atributos)\n",
        "print(\"Atributos originais:\")\n",
        "for i, col in enumerate(X.columns):\n",
        "    print(f\"{i+1}. {col}\")\n",
        "print(\"\\nAtributos selecionados:\")\n",
        "print(selected_features)\n"
      ],
      "metadata": {
        "colab": {
          "base_uri": "https://localhost:8080/"
        },
        "id": "gSe4w0zFfmd-",
        "outputId": "9fd57b59-c383-454a-b2ef-436a422ff9ec"
      },
      "execution_count": 41,
      "outputs": [
        {
          "output_type": "stream",
          "name": "stdout",
          "text": [
            "Número original de atributos: 11\n",
            "Número reduzido de atributos: 5\n",
            "Atributos originais:\n",
            "1. Idade\n",
            "2. Sexo\n",
            "3. TipoDor\n",
            "4. PressaoSangueRep\n",
            "5. Colesterol_Serico\n",
            "6. Acucar_sangue_jejum\n",
            "7. EletrocardiogramaRep\n",
            "8. FreqCardiacaMax\n",
            "9. AnginoExercicio\n",
            "10. InclinacaoST\n",
            "11. Depressão_ST_antiga\n",
            "\n",
            "Atributos selecionados:\n",
            "Index(['Sexo', 'TipoDor', 'Acucar_sangue_jejum', 'AnginoExercicio',\n",
            "       'Depressão_ST_antiga'],\n",
            "      dtype='object')\n"
          ]
        }
      ]
    },
    {
      "cell_type": "markdown",
      "source": [
        "ExtraTrees"
      ],
      "metadata": {
        "id": "G39sqigTquvS"
      }
    },
    {
      "cell_type": "code",
      "source": [
        "from sklearn.feature_selection import SelectFromModel\n",
        "from sklearn.ensemble import ExtraTreesClassifier\n",
        "\n",
        "# Criando o modelo ExtraTreesClassifier\n",
        "extra_trees_model = ExtraTreesClassifier(n_estimators=100, random_state=42)\n",
        "\n",
        "# Aplicando o SelectFromModel\n",
        "selector = SelectFromModel(estimator=extra_trees_model)\n",
        "X_selected = selector.fit_transform(X, y)\n",
        "\n",
        "# Obtendo as máscaras de características selecionadas\n",
        "selected_mask = selector.get_support()\n",
        "\n",
        "# Obtendo os nomes das características selecionadas\n",
        "selected_features = X.columns[selected_mask]\n",
        "\n",
        "# Número original de atributos\n",
        "num_original_atributos = len(X.columns)\n",
        "\n",
        "# Número reduzido de atributos\n",
        "num_reduzido_atributos = X_selected.shape[1]\n",
        "\n",
        "# Exibindo as informações\n",
        "print(\"Número original de atributos:\", num_original_atributos)\n",
        "print(\"Número reduzido de atributos:\", num_reduzido_atributos)\n",
        "print(\"Atributos originais:\")\n",
        "for i, col in enumerate(X.columns):\n",
        "    print(f\"{i+1}. {col}\")\n",
        "print(\"\\nAtributos selecionados:\")\n",
        "print(selected_features)\n"
      ],
      "metadata": {
        "colab": {
          "base_uri": "https://localhost:8080/"
        },
        "id": "9YW9jBtEo4Cl",
        "outputId": "b7c7aab3-f4fb-44aa-d1ec-c8cc6f376af6"
      },
      "execution_count": 42,
      "outputs": [
        {
          "output_type": "stream",
          "name": "stdout",
          "text": [
            "Número original de atributos: 11\n",
            "Número reduzido de atributos: 5\n",
            "Atributos originais:\n",
            "1. Idade\n",
            "2. Sexo\n",
            "3. TipoDor\n",
            "4. PressaoSangueRep\n",
            "5. Colesterol_Serico\n",
            "6. Acucar_sangue_jejum\n",
            "7. EletrocardiogramaRep\n",
            "8. FreqCardiacaMax\n",
            "9. AnginoExercicio\n",
            "10. InclinacaoST\n",
            "11. Depressão_ST_antiga\n",
            "\n",
            "Atributos selecionados:\n",
            "Index(['TipoDor', 'Colesterol_Serico', 'FreqCardiacaMax', 'AnginoExercicio',\n",
            "       'Depressão_ST_antiga'],\n",
            "      dtype='object')\n"
          ]
        }
      ]
    },
    {
      "cell_type": "markdown",
      "source": [
        "# Atributos selecionados"
      ],
      "metadata": {
        "id": "mrHm8yJ2tRRW"
      }
    },
    {
      "cell_type": "code",
      "source": [
        "from sklearn.model_selection import train_test_split\n",
        "\n",
        "# Selecionar atributos com base nos resultados dos métodos de seleção de características\n",
        "# Vamos usar os atributos selecionados pelos três métodos\n",
        "atributos_selecionados = ['AnginoExercicio', 'Depressão_ST_antiga', 'TipoDor', 'FreqCardiacaMax', 'InclinacaoST']\n",
        "\n",
        "# Separar os dados em features (X) e alvo (y) usando apenas os atributos selecionados\n",
        "X = df[atributos_selecionados]\n",
        "y = df['Alvo']\n",
        "\n",
        "# Dividir os dados em conjunto de treino e conjunto de teste\n",
        "X_treino, X_teste, y_treino, y_teste = train_test_split(X, y, test_size=0.2, random_state=42)\n",
        "\n",
        "# Verificar o tamanho dos conjuntos\n",
        "print(\"Tamanho do conjunto de treino:\", X_treino.shape[0])\n",
        "print(\"Tamanho do conjunto de teste:\", X_teste.shape[0])"
      ],
      "metadata": {
        "colab": {
          "base_uri": "https://localhost:8080/"
        },
        "id": "4Lm9SCAkz7ko",
        "outputId": "3e8c54ec-82d8-4114-ec08-2f841566b480"
      },
      "execution_count": 68,
      "outputs": [
        {
          "output_type": "stream",
          "name": "stdout",
          "text": [
            "Tamanho do conjunto de treino: 952\n",
            "Tamanho do conjunto de teste: 238\n"
          ]
        }
      ]
    },
    {
      "cell_type": "markdown",
      "source": [
        "Basedo em cada tipo de \"Feature Selection\" realizado optei por seguir com seguintes atributos:\n",
        "\n",
        "\n",
        "\n",
        "*   AnginoExercicio\n",
        "*   Depressão_ST_antiga\n",
        "*   TipoDor\n",
        "*   FreqCardiacaMax\n",
        "*   InclinacaoST\n",
        "\n",
        "\n"
      ],
      "metadata": {
        "id": "elAwriY8sW8f"
      }
    },
    {
      "cell_type": "markdown",
      "source": [
        "#Modelagem e Inferência"
      ],
      "metadata": {
        "id": "NT28yZ5y3orJ"
      }
    },
    {
      "cell_type": "markdown",
      "source": [
        "#Criação e avaliação de modelos: linha base"
      ],
      "metadata": {
        "id": "4nVpPowq3yyA"
      }
    },
    {
      "cell_type": "code",
      "source": [
        "import numpy as np\n",
        "from sklearn.model_selection import cross_val_score, KFold\n",
        "from sklearn.linear_model import LogisticRegression\n",
        "from sklearn.neighbors import KNeighborsClassifier\n",
        "from sklearn.tree import DecisionTreeClassifier\n",
        "from sklearn.naive_bayes import GaussianNB\n",
        "from sklearn.svm import SVC\n",
        "from sklearn.ensemble import BaggingClassifier, RandomForestClassifier, ExtraTreesClassifier, AdaBoostClassifier, GradientBoostingClassifier, VotingClassifier\n",
        "\n",
        "# Definindo uma semente global\n",
        "np.random.seed(7)\n",
        "\n",
        "# Lista que armazenará os modelos\n",
        "models = []\n",
        "\n",
        "# Criando os modelos e adicionando-os na lista de modelos\n",
        "models.append(('LR', LogisticRegression(max_iter=200)))\n",
        "models.append(('KNN', KNeighborsClassifier()))\n",
        "models.append(('CART', DecisionTreeClassifier()))\n",
        "models.append(('NB', GaussianNB()))\n",
        "models.append(('SVM', SVC()))\n",
        "\n",
        "# Definindo os parâmetros do classificador base para o BaggingClassifier\n",
        "base = DecisionTreeClassifier()\n",
        "num_trees = 100\n",
        "max_features = 3\n",
        "\n",
        "# Criando os modelos para o VotingClassifier\n",
        "bases = []\n",
        "model1 = LogisticRegression(max_iter=200)\n",
        "bases.append(('logistic', model1))\n",
        "model2 = DecisionTreeClassifier()\n",
        "bases.append(('cart', model2))\n",
        "model3 = SVC()\n",
        "bases.append(('svm', model3))\n",
        "\n",
        "# Criando os ensembles e adicionando-os na lista de modelos\n",
        "models.append(('Bagging', BaggingClassifier(base_estimator=base, n_estimators=num_trees)))\n",
        "models.append(('RF', RandomForestClassifier(n_estimators=num_trees, max_features=max_features)))\n",
        "models.append(('ET', ExtraTreesClassifier(n_estimators=num_trees, max_features=max_features)))\n",
        "models.append(('Ada', AdaBoostClassifier(n_estimators=num_trees)))\n",
        "models.append(('GB', GradientBoostingClassifier(n_estimators=num_trees)))\n",
        "models.append(('Voting', VotingClassifier(bases)))\n",
        "\n",
        "# Listas para armazenar os resultados\n",
        "results = []\n",
        "names = []\n",
        "\n",
        "# Avaliação dos modelos\n",
        "kfold = KFold(n_splits=10, random_state=7, shuffle=True)\n",
        "scoring = 'accuracy'\n",
        "\n",
        "for name, model in models:\n",
        "    cv_results = cross_val_score(model, X_train, y_train, cv=kfold, scoring=scoring)\n",
        "    results.append(cv_results)\n",
        "    names.append(name)\n",
        "    msg = \"%s: %f (%f)\" % (name, cv_results.mean(), cv_results.std())\n",
        "    print(msg)\n",
        "\n",
        "# Boxplot de comparação dos modelos\n",
        "import matplotlib.pyplot as plt\n",
        "fig = plt.figure(figsize=(15,10))\n",
        "fig.suptitle('Comparação dos Modelos')\n",
        "ax = fig.add_subplot(111)\n",
        "plt.boxplot(results)\n",
        "ax.set_xticklabels(names)\n",
        "plt.show()\n"
      ],
      "metadata": {
        "colab": {
          "base_uri": "https://localhost:8080/",
          "height": 1000
        },
        "id": "fk7nGCcQ3Pfy",
        "outputId": "0d8a2ade-b110-492a-ddad-41f66c53d4c3"
      },
      "execution_count": 69,
      "outputs": [
        {
          "output_type": "stream",
          "name": "stdout",
          "text": [
            "LR: 0.808783 (0.043472)\n",
            "KNN: 0.797237 (0.032467)\n",
            "CART: 0.835143 (0.028633)\n",
            "NB: 0.809814 (0.040191)\n",
            "SVM: 0.686897 (0.046763)\n",
            "Bagging: 0.863432 (0.039143)\n",
            "RF: 0.866579 (0.040555)\n",
            "ET: 0.853958 (0.033889)\n",
            "Ada: 0.808805 (0.034296)\n",
            "GB: 0.849770 (0.028729)\n",
            "Voting: 0.829792 (0.031327)\n"
          ]
        },
        {
          "output_type": "display_data",
          "data": {
            "text/plain": [
              "<Figure size 1500x1000 with 1 Axes>"
            ],
            "image/png": "[encoded data removed]"
          },
          "metadata": {}
        }
      ]
    },
    {
      "cell_type": "markdown",
      "source": [
        "Decision Tree (CART), Bagging, Random Forest (RF) e Extra Trees (ET) obtiveram as maiores pontuações de acurácia média, com pontuações em torno de 0.83 a 0.87. Isso sugere que esses modelos tiveram um bom desempenho na classificação dos dados."
      ],
      "metadata": {
        "id": "98SqjwvrIMAP"
      }
    },
    {
      "cell_type": "markdown",
      "source": [
        "#Criação e avaliação de modelos: dados padronizados e normalizados"
      ],
      "metadata": {
        "id": "kPrC6LiW4k2C"
      }
    },
    {
      "cell_type": "code",
      "source": [
        "np.random.seed(7) # definindo uma semente global para este bloco\n",
        "\n",
        "# Listas para armazenar os armazenar os pipelines e os resultados para todas as visões do dataset\n",
        "pipelines = []\n",
        "results = []\n",
        "names = []\n",
        "\n",
        "# Criando os elementos do pipeline\n",
        "\n",
        "# Algoritmos que serão utilizados\n",
        "reg_log = ('LR', LogisticRegression(max_iter=200))\n",
        "knn = ('KNN', KNeighborsClassifier())\n",
        "cart = ('CART', DecisionTreeClassifier())\n",
        "naive_bayes = ('NB', GaussianNB())\n",
        "svm = ('SVM', SVC())\n",
        "bagging = ('Bag', BaggingClassifier(base_estimator=base, n_estimators=num_trees))\n",
        "random_forest = ('RF', RandomForestClassifier(n_estimators=num_trees, max_features=max_features))\n",
        "extra_trees = ('ET', ExtraTreesClassifier(n_estimators=num_trees, max_features=max_features))\n",
        "adaboost = ('Ada', AdaBoostClassifier(n_estimators=num_trees))\n",
        "gradient_boosting = ('GB', GradientBoostingClassifier(n_estimators=num_trees))\n",
        "voting = ('Voting', VotingClassifier(bases))\n",
        "\n",
        "# Transformações que serão utilizadas\n",
        "standard_scaler = ('StandardScaler', StandardScaler())\n",
        "min_max_scaler = ('MinMaxScaler', MinMaxScaler())\n",
        "\n",
        "# Montando os pipelines\n",
        "\n",
        "# Dataset original\n",
        "pipelines.append(('LR-orig', Pipeline([reg_log])))\n",
        "pipelines.append(('KNN-orig', Pipeline([knn])))\n",
        "pipelines.append(('CART-orig', Pipeline([cart])))\n",
        "pipelines.append(('NB-orig', Pipeline([naive_bayes])))\n",
        "pipelines.append(('SVM-orig', Pipeline([svm])))\n",
        "pipelines.append(('Bag-orig', Pipeline([bagging])))\n",
        "pipelines.append(('RF-orig', Pipeline([random_forest])))\n",
        "pipelines.append(('ET-orig', Pipeline([extra_trees])))\n",
        "pipelines.append(('Ada-orig', Pipeline([adaboost])))\n",
        "pipelines.append(('GB-orig', Pipeline([gradient_boosting])))\n",
        "pipelines.append(('Vot-orig', Pipeline([voting])))\n",
        "\n",
        "# Dataset Padronizado\n",
        "pipelines.append(('LR-padr', Pipeline([standard_scaler, reg_log])))\n",
        "pipelines.append(('KNN-padr', Pipeline([standard_scaler, knn])))\n",
        "pipelines.append(('CART-padr', Pipeline([standard_scaler, cart])))\n",
        "pipelines.append(('NB-padr', Pipeline([standard_scaler, naive_bayes])))\n",
        "pipelines.append(('SVM-padr', Pipeline([standard_scaler, svm])))\n",
        "pipelines.append(('Bag-padr', Pipeline([standard_scaler, bagging])))\n",
        "pipelines.append(('RF-padr', Pipeline([standard_scaler, random_forest])))\n",
        "pipelines.append(('ET-padr', Pipeline([standard_scaler, extra_trees])))\n",
        "pipelines.append(('Ada-padr', Pipeline([standard_scaler, adaboost])))\n",
        "pipelines.append(('GB-padr', Pipeline([standard_scaler, gradient_boosting])))\n",
        "pipelines.append(('Vot-padr', Pipeline([standard_scaler, voting])))\n",
        "\n",
        "# Dataset Normalizado\n",
        "pipelines.append(('LR-norm', Pipeline([min_max_scaler, reg_log])))\n",
        "pipelines.append(('KNN-norm', Pipeline([min_max_scaler, knn])))\n",
        "pipelines.append(('CART-norm', Pipeline([min_max_scaler, cart])))\n",
        "pipelines.append(('NB-norm', Pipeline([min_max_scaler, naive_bayes])))\n",
        "pipelines.append(('SVM-norm', Pipeline([min_max_scaler, svm])))\n",
        "pipelines.append(('Bag-norm', Pipeline([min_max_scaler, bagging])))\n",
        "pipelines.append(('RF-norm', Pipeline([min_max_scaler, random_forest])))\n",
        "pipelines.append(('ET-norm', Pipeline([min_max_scaler, extra_trees])))\n",
        "pipelines.append(('Ada-norm', Pipeline([min_max_scaler, adaboost])))\n",
        "pipelines.append(('GB-norm', Pipeline([min_max_scaler, gradient_boosting])))\n",
        "pipelines.append(('Vot-norm', Pipeline([min_max_scaler, voting])))\n",
        "\n",
        "# Executando os pipelines\n",
        "for name, model in pipelines:\n",
        "    cv_results = cross_val_score(model, X_train, y_train, cv=kfold, scoring=scoring)\n",
        "    results.append(cv_results)\n",
        "    names.append(name)\n",
        "    msg = \"%s: %.3f (%.3f)\" % (name, cv_results.mean(), cv_results.std()) # formatando para 3 casas decimais\n",
        "    print(msg)\n",
        "\n",
        "# Boxplot de comparação dos modelos\n",
        "import matplotlib.pyplot as plt\n",
        "fig = plt.figure(figsize=(25,6))\n",
        "fig.suptitle('Comparação dos Modelos - Dataset orginal, padronizado e normalizado')\n",
        "ax = fig.add_subplot(111)\n",
        "plt.boxplot(results)\n",
        "ax.set_xticklabels(names, rotation=90)\n",
        "plt.show()\n"
      ],
      "metadata": {
        "colab": {
          "base_uri": "https://localhost:8080/",
          "height": 1000
        },
        "id": "r5DoHnSg4Vxv",
        "outputId": "76a8071f-636d-4e4b-fa4e-9b8c278cf15f"
      },
      "execution_count": 70,
      "outputs": [
        {
          "output_type": "stream",
          "name": "stdout",
          "text": [
            "LR-orig: 0.809 (0.043)\n",
            "KNN-orig: 0.797 (0.032)\n",
            "CART-orig: 0.835 (0.029)\n",
            "NB-orig: 0.810 (0.040)\n",
            "SVM-orig: 0.687 (0.047)\n",
            "Bag-orig: 0.863 (0.039)\n",
            "RF-orig: 0.867 (0.041)\n",
            "ET-orig: 0.854 (0.034)\n",
            "Ada-orig: 0.809 (0.034)\n",
            "GB-orig: 0.850 (0.029)\n",
            "Vot-orig: 0.830 (0.031)\n",
            "LR-padr: 0.809 (0.042)\n",
            "KNN-padr: 0.825 (0.032)\n",
            "CART-padr: 0.841 (0.029)\n",
            "NB-padr: 0.810 (0.040)\n",
            "SVM-padr: 0.828 (0.035)\n",
            "Bag-padr: 0.869 (0.039)\n",
            "RF-padr: 0.871 (0.045)\n",
            "ET-padr: 0.852 (0.033)\n",
            "Ada-padr: 0.809 (0.034)\n",
            "GB-padr: 0.851 (0.029)\n",
            "Vot-padr: 0.838 (0.028)\n",
            "LR-norm: 0.816 (0.035)\n",
            "KNN-norm: 0.816 (0.024)\n",
            "CART-norm: 0.837 (0.027)\n",
            "NB-norm: 0.810 (0.040)\n",
            "SVM-norm: 0.819 (0.036)\n",
            "Bag-norm: 0.866 (0.040)\n",
            "RF-norm: 0.866 (0.042)\n",
            "ET-norm: 0.853 (0.035)\n",
            "Ada-norm: 0.809 (0.034)\n",
            "GB-norm: 0.850 (0.029)\n",
            "Vot-norm: 0.825 (0.030)\n"
          ]
        },
        {
          "output_type": "display_data",
          "data": {
            "text/plain": [
              "<Figure size 2500x600 with 1 Axes>"
            ],
            "image/png": "[encoded data removed]"
          },
          "metadata": {}
        }
      ]
    },
    {
      "cell_type": "markdown",
      "source": [
        "Os resultados mostram que o Random Forest (RF) obteve consistentemente um desempenho muito bom em todas as três visões do conjunto de dados (original, padronizado e normalizado), com uma precisão média em torno de 0.867, 0.871 e 0.866, respectivamente. Isso sugere que o RF é um modelo robusto e eficaz em lidar com diferentes formas de dados."
      ],
      "metadata": {
        "id": "lDlp0NiCJAkn"
      }
    },
    {
      "cell_type": "markdown",
      "source": [
        "# Otimização dos hiperparâmetros"
      ],
      "metadata": {
        "id": "SL0iVZMf409j"
      }
    },
    {
      "cell_type": "code",
      "source": [
        "np.random.seed(7) # definindo uma semente global para este bloco\n",
        "\n",
        "pipelines = []\n",
        "\n",
        "# Definindo os componentes do pipeline\n",
        "rf = ('RF', RandomForestClassifier())\n",
        "standard_scaler = ('StandardScaler', StandardScaler())\n",
        "min_max_scaler = ('MinMaxScaler', MinMaxScaler())\n",
        "\n",
        "pipelines.append(('rf-orig', Pipeline(steps=[rf])))\n",
        "pipelines.append(('rf-padr', Pipeline(steps=[standard_scaler, rf])))\n",
        "pipelines.append(('rf-norm', Pipeline(steps=[min_max_scaler, rf])))\n",
        "\n",
        "param_grid = {\n",
        "    'RF__n_estimators': [50, 100, 150],\n",
        "    'RF__max_features': ['auto', 'sqrt', 'log2'],\n",
        "}\n",
        "\n",
        "# Prepara e executa o GridSearchCV\n",
        "for name, model in pipelines:\n",
        "    grid = GridSearchCV(estimator=model, param_grid=param_grid, scoring=scoring, cv=kfold)\n",
        "    grid.fit(X_train, y_train)\n",
        "    # imprime a melhor configuração\n",
        "    print(\"Sem tratamento de missings: %s - Melhor: %f usando %s\" % (name, grid.best_score_, grid.best_params_))\n"
      ],
      "metadata": {
        "colab": {
          "base_uri": "https://localhost:8080/"
        },
        "id": "AnafTG6f424k",
        "outputId": "8b85438f-1725-4012-85af-de76b69f834b"
      },
      "execution_count": 78,
      "outputs": [
        {
          "output_type": "stream",
          "name": "stdout",
          "text": [
            "Sem tratamento de missings: rf-orig - Melhor: 0.871798 usando {'RF__max_features': 'sqrt', 'RF__n_estimators': 100}\n",
            "Sem tratamento de missings: rf-padr - Melhor: 0.873893 usando {'RF__max_features': 'log2', 'RF__n_estimators': 150}\n",
            "Sem tratamento de missings: rf-norm - Melhor: 0.870768 usando {'RF__max_features': 'auto', 'RF__n_estimators': 50}\n"
          ]
        }
      ]
    },
    {
      "cell_type": "markdown",
      "source": [
        "# Finalização do Modelo"
      ],
      "metadata": {
        "id": "Ktu7gY8v5W4r"
      }
    },
    {
      "cell_type": "code",
      "source": [
        "# Avaliação do modelo com o conjunto de testes\n",
        "\n",
        "# Preparação do modelo\n",
        "scaler = StandardScaler().fit(X_train) # ajuste do scaler com o conjunto de treino\n",
        "rescaledX_train = scaler.transform(X_train) # aplicação da padronização no conjunto de treino\n",
        "model = LogisticRegression(max_iter=200)\n",
        "model.fit(rescaledX_train, y_train)\n",
        "\n",
        "# Estimativa da acurácia no conjunto de teste\n",
        "rescaledX_test = scaler.transform(X_test) # aplicação da padronização no conjunto de teste\n",
        "predictions = model.predict(rescaledX_test)\n",
        "print(accuracy_score(y_test, predictions))\n"
      ],
      "metadata": {
        "colab": {
          "base_uri": "https://localhost:8080/"
        },
        "id": "LS_zfEqg5X2q",
        "outputId": "1d10cd8d-d497-4407-9a4d-0918c8590ad9"
      },
      "execution_count": 79,
      "outputs": [
        {
          "output_type": "stream",
          "name": "stdout",
          "text": [
            "0.8109243697478992\n"
          ]
        }
      ]
    },
    {
      "cell_type": "code",
      "source": [
        "# Preparação do modelo com TODO o dataset\n",
        "\n",
        "scaler = StandardScaler().fit(X)  # ajuste do scaler com TODO o dataset\n",
        "rescaledX = scaler.transform(X)  # aplicação da padronização com TODO o dataset\n",
        "model.fit(rescaledX, y)\n"
      ],
      "metadata": {
        "colab": {
          "base_uri": "https://localhost:8080/",
          "height": 75
        },
        "id": "tAxZ5jvC5-Db",
        "outputId": "79fbdceb-990c-4a82-c2f7-90ce252a9d4d"
      },
      "execution_count": 83,
      "outputs": [
        {
          "output_type": "execute_result",
          "data": {
            "text/plain": [
              "LogisticRegression(max_iter=200)"
            ],
            "text/html": [
              "<style>#sk-container-id-4 {color: black;background-color: white;}#sk-container-id-4 pre{padding: 0;}#sk-container-id-4 div.sk-toggleable {background-color: white;}#sk-container-id-4 label.sk-toggleable__label {cursor: pointer;display: block;width: 100%;margin-bottom: 0;padding: 0.3em;box-sizing: border-box;text-align: center;}#sk-container-id-4 label.sk-toggleable__label-arrow:before {content: \"▸\";float: left;margin-right: 0.25em;color: #696969;}#sk-container-id-4 label.sk-toggleable__label-arrow:hover:before {color: black;}#sk-container-id-4 div.sk-estimator:hover label.sk-toggleable__label-arrow:before {color: black;}#sk-container-id-4 div.sk-toggleable__content {max-height: 0;max-width: 0;overflow: hidden;text-align: left;background-color: #f0f8ff;}#sk-container-id-4 div.sk-toggleable__content pre {margin: 0.2em;color: black;border-radius: 0.25em;background-color: #f0f8ff;}#sk-container-id-4 input.sk-toggleable__control:checked~div.sk-toggleable__content {max-height: 200px;max-width: 100%;overflow: auto;}#sk-container-id-4 input.sk-toggleable__control:checked~label.sk-toggleable__label-arrow:before {content: \"▾\";}#sk-container-id-4 div.sk-estimator input.sk-toggleable__control:checked~label.sk-toggleable__label {background-color: #d4ebff;}#sk-container-id-4 div.sk-label input.sk-toggleable__control:checked~label.sk-toggleable__label {background-color: #d4ebff;}#sk-container-id-4 input.sk-hidden--visually {border: 0;clip: rect(1px 1px 1px 1px);clip: rect(1px, 1px, 1px, 1px);height: 1px;margin: -1px;overflow: hidden;padding: 0;position: absolute;width: 1px;}#sk-container-id-4 div.sk-estimator {font-family: monospace;background-color: #f0f8ff;border: 1px dotted black;border-radius: 0.25em;box-sizing: border-box;margin-bottom: 0.5em;}#sk-container-id-4 div.sk-estimator:hover {background-color: #d4ebff;}#sk-container-id-4 div.sk-parallel-item::after {content: \"\";width: 100%;border-bottom: 1px solid gray;flex-grow: 1;}#sk-container-id-4 div.sk-label:hover label.sk-toggleable__label {background-color: #d4ebff;}#sk-container-id-4 div.sk-serial::before {content: \"\";position: absolute;border-left: 1px solid gray;box-sizing: border-box;top: 0;bottom: 0;left: 50%;z-index: 0;}#sk-container-id-4 div.sk-serial {display: flex;flex-direction: column;align-items: center;background-color: white;padding-right: 0.2em;padding-left: 0.2em;position: relative;}#sk-container-id-4 div.sk-item {position: relative;z-index: 1;}#sk-container-id-4 div.sk-parallel {display: flex;align-items: stretch;justify-content: center;background-color: white;position: relative;}#sk-container-id-4 div.sk-item::before, #sk-container-id-4 div.sk-parallel-item::before {content: \"\";position: absolute;border-left: 1px solid gray;box-sizing: border-box;top: 0;bottom: 0;left: 50%;z-index: -1;}#sk-container-id-4 div.sk-parallel-item {display: flex;flex-direction: column;z-index: 1;position: relative;background-color: white;}#sk-container-id-4 div.sk-parallel-item:first-child::after {align-self: flex-end;width: 50%;}#sk-container-id-4 div.sk-parallel-item:last-child::after {align-self: flex-start;width: 50%;}#sk-container-id-4 div.sk-parallel-item:only-child::after {width: 0;}#sk-container-id-4 div.sk-dashed-wrapped {border: 1px dashed gray;margin: 0 0.4em 0.5em 0.4em;box-sizing: border-box;padding-bottom: 0.4em;background-color: white;}#sk-container-id-4 div.sk-label label {font-family: monospace;font-weight: bold;display: inline-block;line-height: 1.2em;}#sk-container-id-4 div.sk-label-container {text-align: center;}#sk-container-id-4 div.sk-container {/* jupyter's `normalize.less` sets `[hidden] { display: none; }` but bootstrap.min.css set `[hidden] { display: none !important; }` so we also need the `!important` here to be able to override the default hidden behavior on the sphinx rendered scikit-learn.org. See: https://github.com/scikit-learn/scikit-learn/issues/21755 */display: inline-block !important;position: relative;}#sk-container-id-4 div.sk-text-repr-fallback {display: none;}</style><div id=\"sk-container-id-4\" class=\"sk-top-container\"><div class=\"sk-text-repr-fallback\"><pre>LogisticRegression(max_iter=200)</pre><b>In a Jupyter environment, please rerun this cell to show the HTML representation or trust the notebook. <br />On GitHub, the HTML representation is unable to render, please try loading this page with nbviewer.org.</b></div><div class=\"sk-container\" hidden><div class=\"sk-item\"><div class=\"sk-estimator sk-toggleable\"><input class=\"sk-toggleable__control sk-hidden--visually\" id=\"sk-estimator-id-4\" type=\"checkbox\" checked><label for=\"sk-estimator-id-4\" class=\"sk-toggleable__label sk-toggleable__label-arrow\">LogisticRegression</label><div class=\"sk-toggleable__content\"><pre>LogisticRegression(max_iter=200)</pre></div></div></div></div></div>"
            ]
          },
          "metadata": {},
          "execution_count": 83
        }
      ]
    },
    {
      "cell_type": "code",
      "source": [
        "# Novos dados - não sabemos a classe!\n",
        "data = {'AnginoExercicio':  [1, 0, 1],\n",
        "        'Depressão_ST_antiga': [2.0, 1.5, 3.0],\n",
        "        'FreqCardiacaMax': [150, 160, 140],\n",
        "        'InclinacaoST': [1, 2, 1],\n",
        "        'TipoDor': [3, 2, 1]\n",
        "        }\n",
        "\n",
        "atributos = ['AnginoExercicio', 'Depressão_ST_antiga', 'FreqCardiacaMax', 'InclinacaoST', 'TipoDor']\n",
        "entrada = pd.DataFrame(data, columns=atributos)\n",
        "\n",
        "array_entrada = entrada.values\n",
        "X_entrada = array_entrada[:,0:5].astype(float)\n",
        "\n",
        "# Criar um novo scaler ajustado aos novos dados\n",
        "new_scaler = StandardScaler().fit(X_entrada)\n",
        "\n",
        "# Padronização nos novos dados de entrada usando o novo scaler\n",
        "rescaledEntradaX = new_scaler.transform(X_entrada)\n",
        "print(rescaledEntradaX)"
      ],
      "metadata": {
        "colab": {
          "base_uri": "https://localhost:8080/"
        },
        "id": "giJOO0D76Odd",
        "outputId": "4fc6b71e-dae9-42e3-8c4a-d56eb4b273fd"
      },
      "execution_count": 84,
      "outputs": [
        {
          "output_type": "stream",
          "name": "stdout",
          "text": [
            "[[ 0.70710678 -0.26726124  0.         -0.70710678  1.22474487]\n",
            " [-1.41421356 -1.06904497  1.22474487  1.41421356  0.        ]\n",
            " [ 0.70710678  1.33630621 -1.22474487 -0.70710678 -1.22474487]]\n"
          ]
        }
      ]
    },
    {
      "cell_type": "code",
      "source": [
        "# Predição de classes dos dados de entrada\n",
        "saidas = model.predict(rescaledEntradaX)\n",
        "print(saidas)"
      ],
      "metadata": {
        "colab": {
          "base_uri": "https://localhost:8080/"
        },
        "id": "OmVeHOzmE3lh",
        "outputId": "a5af28dd-6a74-41fa-b4ef-0c200cc47dfc"
      },
      "execution_count": 85,
      "outputs": [
        {
          "output_type": "stream",
          "name": "stdout",
          "text": [
            "[1 0 1]\n"
          ]
        }
      ]
    },
    {
      "cell_type": "markdown",
      "source": [
        "Atraves dos resultados foi possível definir os melhores modelos para o treinamento da máquina."
      ],
      "metadata": {
        "id": "EhTXzL83L-ob"
      }
    }
  ]
}